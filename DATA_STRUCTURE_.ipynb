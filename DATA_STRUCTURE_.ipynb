{
  "nbformat": 4,
  "nbformat_minor": 0,
  "metadata": {
    "colab": {
      "provenance": []
    },
    "kernelspec": {
      "name": "python3",
      "display_name": "Python 3"
    },
    "language_info": {
      "name": "python"
    }
  },
  "cells": [
    {
      "cell_type": "markdown",
      "source": [
        "# Data Types and Structures Questions"
      ],
      "metadata": {
        "id": "60faRMiBVcQB"
      }
    },
    {
      "cell_type": "markdown",
      "source": [
        "  # QUESTION 1 -What are data structures, and why are they important?\n"
      ],
      "metadata": {
        "id": "3gxF_7GVVgOZ"
      }
    },
    {
      "cell_type": "markdown",
      "source": [
        " ANS1   -\n",
        "A data structure is a way of organizing and storing information in a computer so it can be used efficiently.\n",
        "\n",
        "   Data structures are essential because they help computers process large amounts of data quickly and efficiently.\n",
        "\n",
        "\n"
      ],
      "metadata": {
        "id": "IEVPnlYkVrxR"
      }
    },
    {
      "cell_type": "markdown",
      "source": [
        "# QUESTION2 - Explain the difference between mutable and immutable data types with examples.\n",
        "\n",
        "\n",
        "ANS2- Mutable data types allow their values to be changed after creation. Modifications occur in-place, meaning the memory location remains the same, and all references to the object reflect the changes.\n"
      ],
      "metadata": {
        "id": "l_I0TMdKWzCw"
      }
    },
    {
      "cell_type": "markdown",
      "source": [
        "# Question 3-  What are the main differences between lists and tuples in Python?\n",
        "         "
      ],
      "metadata": {
        "id": "ebv0lelOb2Zs"
      }
    },
    {
      "cell_type": "markdown",
      "source": [
        "ANS 3- Mutability: List: Mutable, meaning its elements can be modified, added, or removed after creation. Tuple: Immutable, meaning its elements cannot be changed once defined. String: Immutable, similar to tuples, but specifically designed to store sequences of characters.\n",
        "\n",
        "Syntax: List: Defined using square brackets []. Example: [1, 2, 3]. Tuple: Defined using parentheses (). Example: (1, 2, 3). String: Defined using quotes (' or \"). Example: \"hello\".\n",
        "\n",
        "Performance: Tuple: Faster than lists due to immutability and lower memory overhead. List: Slower compared to tuples because of dynamic resizing and mutability. String: Optimized for text operations but slower for large-scale manipulations due to immutability.\n",
        "\n",
        "Methods: List: Offers extensive methods like append(), remove(), sort(), etc., for modification. Tuple: Limited methods like count() and index() due to immutability. String: Provides text-specific methods like split(), join(), replace(), etc."
      ],
      "metadata": {
        "id": "axRf6koIcFG2"
      }
    },
    {
      "cell_type": "markdown",
      "source": [
        "# QUESTION 4-Describe how dictionaries store data."
      ],
      "metadata": {
        "id": "N0wDH5it6G_1"
      }
    },
    {
      "cell_type": "markdown",
      "metadata": {
        "id": "3b677353"
      },
      "source": [
        "Dictionaries store data as key-value pairs. They use a technique called hashing to quickly find values based on their unique keys. This makes adding, getting, and removing items very fast."
      ]
    },
    {
      "cell_type": "markdown",
      "source": [
        "# QUESTION 5-Why might you use a set instead of a list in Python?"
      ],
      "metadata": {
        "id": "OEY75NCMdSP6"
      }
    },
    {
      "cell_type": "markdown",
      "source": [
        "Answer 5-  A set is an unordered collection of unique elements. Sets are defined using curly braces {} or the set() constructor. We use a set when we need to store unique elements and do not care about the order. Sets are ideal for membership tests and eliminating duplicates.Use a set when you need to store unique elements and do not care about the order. Sets are ideal for membership tests and eliminating duplicates."
      ],
      "metadata": {
        "id": "iC8S55D6dvQM"
      }
    },
    {
      "cell_type": "markdown",
      "source": [
        "# Question 6- What is a string in Python, and how is it different from a list\n",
        "\n",
        "\n"
      ],
      "metadata": {
        "id": "9amdgSIVeFv9"
      }
    },
    {
      "cell_type": "markdown",
      "source": [
        "Answer 6 --A string is a sequence of characters enclosed in single, double, or triple quotes. Strings are immutable, meaning their content cannot be changed after creation. They support operations like slicing, concatenation, and splitting.\n",
        "\n",
        " list of strings is a collection of string elements stored in a list. Lists are mutable, allowing modification of their elements. They are ideal for storing and manipulating multiple strings."
      ],
      "metadata": {
        "id": "q5QtAOOfewwo"
      }
    },
    {
      "cell_type": "markdown",
      "source": [
        "# Question 7--How do tuples ensure data integrity in Python?"
      ],
      "metadata": {
        "id": "m_7un_8WfHFE"
      }
    },
    {
      "cell_type": "markdown",
      "source": [
        "Answer 7--Once a tuple is created, its elements cannot be changed, added, or removed. This immutability guarantees that the data remains consistent throughout the program's execution. For example, if a tuple is passed to a function, the function cannot modify its contents, ensuring the original data remains intact."
      ],
      "metadata": {
        "id": "aG6FIXTDfZ1z"
      }
    },
    {
      "cell_type": "markdown",
      "source": [
        "# Question 8--What is a hash table, and how does it relate to dictionaries in Python?"
      ],
      "metadata": {
        "id": "fgAzCEaDgAfQ"
      }
    },
    {
      "cell_type": "markdown",
      "source": [
        "Answer 8--A hash function is a function that can map a piece of data of any length to a fixed-length value, called hash.\n",
        "\n",
        "Hash functions have three major characteristics:\n",
        "\n",
        "They are fast to compute: calculate the hash of a piece of data have to be a fast operation.\n",
        "They are deterministic: the same string will always produce the same hash.\n",
        "They produce fixed-length values: it doesn’t matter if your input is one, ten, or ten thousand bytes, the resulting hash will be always of a fixed, predetermined length.\n",
        "\n",
        " A dictionary is a general concept that maps keys to values. There are many ways to implement such a mapping.\n",
        "\n",
        "A hashtable is a specific way to implement a dictionary"
      ],
      "metadata": {
        "id": "vaamRyjKgY9s"
      }
    },
    {
      "cell_type": "markdown",
      "source": [
        "# Question 9-- Can lists contain different data types in Python?"
      ],
      "metadata": {
        "id": "3KNYeZU3hJT-"
      }
    },
    {
      "cell_type": "markdown",
      "source": [
        "Answer 9 --Lists are one of the most commonly used data structures in Python. They are ordered, mutable, and can store elements of mixed types while allowing duplicates."
      ],
      "metadata": {
        "id": "-_Y0K0_gheWz"
      }
    },
    {
      "cell_type": "markdown",
      "source": [
        "# QUESTION 10-  Explain why strings are immutable in PythonP"
      ],
      "metadata": {
        "id": "RoV_llSJhr6k"
      }
    },
    {
      "cell_type": "markdown",
      "source": [
        "Answer 10-   strings are immutable, meaning their content cannot be changed after they are created. This immutability ensures that once a string object is instantiated, its value remains constant throughout its lifetime.\n",
        "\n",
        " Hashability: Immutable objects, like strings, can be used as keys in dictionaries because their hash values remain constant. This ensures reliable key-value mapping.\n",
        "\n",
        "Memory Optimization: Python can reuse immutable objects, reducing memory overhead. For instance, identical strings may point to the same memory location.\n",
        "\n",
        "Thread Safety: Since immutable objects cannot be modified, they are inherently safe for concurrent access in multi-threaded environments.\n",
        "\n",
        "Predictability: Immutable objects prevent unexpected changes, making debugging and reasoning about code easier."
      ],
      "metadata": {
        "id": "cHaVlaIih7v4"
      }
    },
    {
      "cell_type": "markdown",
      "source": [
        "# QUESTION 11-- What advantages do dictionaries offer over lists for certain tasks?"
      ],
      "metadata": {
        "id": "eYXrnV5EiI4l"
      }
    },
    {
      "cell_type": "markdown",
      "source": [
        "ANSWER 11-- A key advantage of using dictionaries over lists in Python is their efficiency in searching and accessing elements. Dictionaries are implemented as hash tables, allowing for constant time complexity (O(1)) when retrieving a value using its key. In contrast, lists require a linear search (O(n)), which becomes slower as the list grows larger."
      ],
      "metadata": {
        "id": "qqlCBI5MpKCP"
      }
    },
    {
      "cell_type": "markdown",
      "source": [
        "# Question 12- Describe a scenario where using a tuple would be preferable over a list"
      ],
      "metadata": {
        "id": "FMN242KSpLwk"
      }
    },
    {
      "cell_type": "markdown",
      "source": [
        "Answer 12-- Using a tuple is preferable over a list in scenarios where immutability, performance, or memory efficiency is important. Here's an example:\n",
        "\n",
        "Scenario: Storing GPS Coordinates\n",
        "If you're working with a program that processes geographical data, such as storing the latitude and longitude of a location, a tuple is ideal. For instance:\n",
        "\n",
        "location = (26.8467, 80.9462)  # Latitude and Longitude of a city\n",
        "  \n",
        "  GPS coordinates are fixed and should not be accidentally modified. Tuples ensure the data remains unchanged."
      ],
      "metadata": {
        "id": "ZV-f4XbXpoR4"
      }
    },
    {
      "cell_type": "markdown",
      "source": [
        "# Question 13--  How do sets handle duplicate values in Python?"
      ],
      "metadata": {
        "id": "NwB50rxMp0J5"
      }
    },
    {
      "cell_type": "markdown",
      "source": [
        "Answer 13--- In Python, sets automatically handle duplicate values by removing them.\n",
        "\n",
        "When you add elements to a set, it ensures that only unique items are stored. If you try to add a duplicate value, it will simply be ignored, and the set will remain unchanged."
      ],
      "metadata": {
        "id": "6KIHAblMqIEk"
      }
    },
    {
      "cell_type": "markdown",
      "source": [
        "# Question 14 --  How does the “in” keyword work differently for lists and dictionaries?"
      ],
      "metadata": {
        "id": "q6wo6jY7qKYP"
      }
    },
    {
      "cell_type": "markdown",
      "source": [
        "Answer 14-- The in keyword in Python is used to check for membership, but its behavior and efficiency differ depending on the data structure it is applied to, such as lists and dictionaries.\n",
        "\n",
        "in with Lists\n",
        "\n",
        "When used with a list, the in keyword checks if a value exists within the list. This operation involves iterating through the list sequentially and comparing each element with the target value.\n",
        "\n",
        "Example:\n",
        "\n",
        "my_list = [1, 2, 3, 4]\n",
        "\n",
        "print(3 in my_list) # Output: True\n",
        "\n",
        "print(5 in my_list) # Output: False\n",
        "\n",
        "When used with a dictionary, the in keyword checks for the presence of a key, not a value. If you want to check for a value, you need to use the .values() method explicitly.\n",
        "\n",
        "Example:\n",
        "\n",
        "my_dict = {'a': 1, 'b': 2, 'c': 3}\n",
        "\n",
        "print('a' in my_dict) # Output: True (checks for key)\n",
        "\n",
        "print(1 in my_dict) # Output: False (does not check values)\n",
        "\n",
        "print(1 in my_dict.values()) # Output: True (checks values)"
      ],
      "metadata": {
        "id": "O9EqW12fqd-T"
      }
    },
    {
      "cell_type": "markdown",
      "source": [
        "# Question 15--Can you modify the elements of a tuple? Explain why or why not?"
      ],
      "metadata": {
        "id": "4VZNrig0q7L-"
      }
    },
    {
      "cell_type": "markdown",
      "source": [
        "Answer 15-- Tuples in Python are immutable, meaning their elements cannot be changed directly. tuples are immutable, meaning their contents cannot be directly modified after creation. This immutability is a key characteristic of tuples, making them ideal for storing data that should remain constant throughout the program's execution.\n",
        "\n",
        "Tuples are designed to be immutable for reasons such as memory efficiency and data integrity. Once a tuple is created, its size and contents are fixed. This allows Python to optimize memory usage and enables features like interning, where identical tuples can share memory."
      ],
      "metadata": {
        "id": "RqGYnbNYrCUh"
      }
    },
    {
      "cell_type": "markdown",
      "source": [
        "# QUESTION 16-What is a nested dictionary, and give an example of its use case?\n"
      ],
      "metadata": {
        "id": "l9VorBkpDB37"
      }
    },
    {
      "cell_type": "markdown",
      "source": [
        "Answer 16- A nested dictionary is a dictionary that contains another dictionary as a value. It helps organize complex or grouped data, like student details or product info in a clean and structured way\n",
        "          "
      ],
      "metadata": {
        "id": "ceTyEQGXr2iO"
      }
    },
    {
      "cell_type": "markdown",
      "source": [
        "# Question 17-- Describe the time complexity of accessing elements in a dictionary?"
      ],
      "metadata": {
        "id": "Zqstxxujr6bJ"
      }
    },
    {
      "cell_type": "markdown",
      "source": [
        "Answer 17-- When you access a dictionary key, Python computes the hash of the key using the hash() function. This hash value determines the index in the underlying hash table where the value is stored. Since this process involves direct indexing, it is independent of the dictionary's size, resulting in O(1) complexity.\n"
      ],
      "metadata": {
        "id": "_eDmtuWSsbUE"
      }
    },
    {
      "cell_type": "markdown",
      "source": [
        "# Question 18-- In what situations are lists preferred over dictionaries?"
      ],
      "metadata": {
        "id": "y5UiipKysggq"
      }
    },
    {
      "cell_type": "markdown",
      "source": [
        "Answer 18--for large-scale searches and deletions, dictionaries outperform lists. For sequential access and storage efficiency, lists are preferable."
      ],
      "metadata": {
        "id": "2WSRiJVjs1xB"
      }
    },
    {
      "cell_type": "markdown",
      "source": [
        "# Question 19--Why are dictionaries considered unordered, and how does that affect data retrieval?"
      ],
      "metadata": {
        "id": "ZFIZdSyZtJLb"
      }
    },
    {
      "cell_type": "markdown",
      "source": [
        "ANSWER 19--Dictionaries in Python are often referred to as unordered collections because they do not guarantee any specific order of their elements based on insertion or key values. This characteristic stems from their underlying implementation as hash tables, which prioritize fast key-based lookups over maintaining order."
      ],
      "metadata": {
        "id": "bCwyQmGLtUfa"
      }
    },
    {
      "cell_type": "markdown",
      "source": [
        "# Question 20--Explain the difference between a list and a dictionary in terms of data retrieval."
      ],
      "metadata": {
        "id": "8UatWzjNtbJv"
      }
    },
    {
      "cell_type": "markdown",
      "source": [
        "Answer 20 - In lists, we retrieve data using their index, which is their position in the ordered sequence. For example, my_list[0] would give us the first element. This means that accessing an element in a list requires iterating through the list until the correct index is found, which can take longer for larger lists (linear time complexity).\n",
        "\n",
        " In dictionaries, we retrieve data using their keys. For example, my_dict['key'] would give us the value associated with 'key'. Dictionaries use a hash table internally, which allows for very fast access to values based on their keys, regardless of how many items are in the dictionary (constant time complexity)."
      ],
      "metadata": {
        "id": "clpqJLWlt_9y"
      }
    },
    {
      "cell_type": "markdown",
      "source": [
        "# **PRACTICAL** **QUESTION**"
      ],
      "metadata": {
        "id": "knZNH-RCUHoe"
      }
    },
    {
      "cell_type": "markdown",
      "source": [
        "Question 1-Write a code to create a string with your name and print it"
      ],
      "metadata": {
        "id": "qvEz92jkUQmI"
      }
    },
    {
      "cell_type": "code",
      "source": [
        "input_str= input(\" enter your name\")\n",
        "print (\"my name is\", input_str)"
      ],
      "metadata": {
        "colab": {
          "base_uri": "https://localhost:8080/"
        },
        "id": "hcnNopQ3UZTA",
        "outputId": "e5e2c515-3191-4b0c-e6c9-355b9627ea60"
      },
      "execution_count": null,
      "outputs": [
        {
          "output_type": "stream",
          "name": "stdout",
          "text": [
            " enter your nameraj\n",
            "my name is raj\n"
          ]
        }
      ]
    },
    {
      "cell_type": "markdown",
      "source": [
        "Question 2- Write a code to find the length of the string \"Hello World\"."
      ],
      "metadata": {
        "id": "iTupFYVfUzQb"
      }
    },
    {
      "cell_type": "code",
      "source": [
        "input_str= \"hello world\"\n",
        "print(len(input_str))"
      ],
      "metadata": {
        "colab": {
          "base_uri": "https://localhost:8080/"
        },
        "id": "uSJqiGLeU-lr",
        "outputId": "09205425-7635-489e-c543-869c68908583"
      },
      "execution_count": null,
      "outputs": [
        {
          "output_type": "stream",
          "name": "stdout",
          "text": [
            "11\n"
          ]
        }
      ]
    },
    {
      "cell_type": "markdown",
      "source": [
        "Question 3- Write a code to slice the first 3 characters from the string \"Python Programming\"."
      ],
      "metadata": {
        "id": "6L7EYJ_MVKP5"
      }
    },
    {
      "cell_type": "code",
      "source": [
        "input_str= input(\"enter the string\")\n",
        "print(input_str[0:3])"
      ],
      "metadata": {
        "colab": {
          "base_uri": "https://localhost:8080/"
        },
        "id": "uDo17-27VSyK",
        "outputId": "799db68c-f4e3-48e2-890f-360ae0243bde"
      },
      "execution_count": null,
      "outputs": [
        {
          "output_type": "stream",
          "name": "stdout",
          "text": [
            "enter the stringrajasingh\n",
            "raj\n"
          ]
        }
      ]
    },
    {
      "cell_type": "markdown",
      "source": [
        "Question 4 -  Write a code to convert the string \"hello\" to uppercase."
      ],
      "metadata": {
        "id": "Uv3KWYWtVff_"
      }
    },
    {
      "cell_type": "code",
      "source": [
        "input_str= input(\"enter the string\")\n",
        "print(input_str.upper())"
      ],
      "metadata": {
        "colab": {
          "base_uri": "https://localhost:8080/"
        },
        "id": "OU4jDAvqVr39",
        "outputId": "b91d74ba-71d6-4104-dd8c-f411898a6197"
      },
      "execution_count": null,
      "outputs": [
        {
          "output_type": "stream",
          "name": "stdout",
          "text": [
            "enter the stringraj\n",
            "RAJ\n"
          ]
        }
      ]
    },
    {
      "cell_type": "markdown",
      "source": [
        "Question 5- Write a code to replace the word \"apple\" with \"orange\" in the string \"I like apple\"."
      ],
      "metadata": {
        "id": "5B2BbcaTV7AH"
      }
    },
    {
      "cell_type": "code",
      "source": [
        "input_str= \"i like apple\"\n",
        "print(input_str.replace(\"apple\",\"orange\"))"
      ],
      "metadata": {
        "colab": {
          "base_uri": "https://localhost:8080/"
        },
        "id": "5AiTyUkUWCmV",
        "outputId": "4a601428-aedc-4ca4-b23a-479ceeeaabdc"
      },
      "execution_count": null,
      "outputs": [
        {
          "output_type": "stream",
          "name": "stdout",
          "text": [
            "i like orange\n"
          ]
        }
      ]
    },
    {
      "cell_type": "markdown",
      "source": [
        "Question 6- Write a code to create a list with numbers 1 to 5 and print it."
      ],
      "metadata": {
        "id": "7mwYL8IeWTvv"
      }
    },
    {
      "cell_type": "code",
      "source": [
        "input_list=[1,2,3,4,5]\n",
        "print(input_list)"
      ],
      "metadata": {
        "colab": {
          "base_uri": "https://localhost:8080/"
        },
        "id": "BHy0Hkr7WcPR",
        "outputId": "45dc5f7e-12fa-433a-c684-11f0f8d9cd51"
      },
      "execution_count": null,
      "outputs": [
        {
          "output_type": "stream",
          "name": "stdout",
          "text": [
            "[1, 2, 3, 4, 5]\n"
          ]
        }
      ]
    },
    {
      "cell_type": "markdown",
      "source": [
        "Question 7 --Write a code to append the number 10 to the list [1, 2, 3, 4]."
      ],
      "metadata": {
        "id": "oSU51PoCWn9h"
      }
    },
    {
      "cell_type": "code",
      "source": [
        "input_list=[1,2,3,4]\n",
        "input_list.append(10)\n",
        "print(input_list)"
      ],
      "metadata": {
        "colab": {
          "base_uri": "https://localhost:8080/"
        },
        "id": "SNt_bF-5WxEU",
        "outputId": "b54f0536-8f0f-4fc5-e451-d40ce9789a18"
      },
      "execution_count": null,
      "outputs": [
        {
          "output_type": "stream",
          "name": "stdout",
          "text": [
            "[1, 2, 3, 4, 10]\n"
          ]
        }
      ]
    },
    {
      "cell_type": "markdown",
      "source": [
        "Question 8- Write a code to remove the number 3 from the list [1, 2, 3, 4, 5]."
      ],
      "metadata": {
        "id": "D1Ivycg1XVDd"
      }
    },
    {
      "cell_type": "code",
      "source": [
        "input_list=[1,2,3,4,5]\n",
        "input_list.remove(3)\n",
        "print(input_list)"
      ],
      "metadata": {
        "colab": {
          "base_uri": "https://localhost:8080/"
        },
        "id": "mLwVI_OuXdnp",
        "outputId": "1fb1c04c-3bee-4de0-cdde-9f5c0996680d"
      },
      "execution_count": null,
      "outputs": [
        {
          "output_type": "stream",
          "name": "stdout",
          "text": [
            "[1, 2, 4, 5]\n"
          ]
        }
      ]
    },
    {
      "cell_type": "markdown",
      "source": [
        "Question 9--  Write a code to access the second element in the list ['a', 'b', 'c', 'd']"
      ],
      "metadata": {
        "id": "Nne7pWrkXijA"
      }
    },
    {
      "cell_type": "code",
      "source": [
        "input_list=['a','b','c','d']\n",
        "print(input_list[1])"
      ],
      "metadata": {
        "colab": {
          "base_uri": "https://localhost:8080/"
        },
        "id": "1HZSLbBiXp5m",
        "outputId": "11dd6d45-c728-4135-c7f9-50593c4dd843"
      },
      "execution_count": null,
      "outputs": [
        {
          "output_type": "stream",
          "name": "stdout",
          "text": [
            "b\n"
          ]
        }
      ]
    },
    {
      "cell_type": "markdown",
      "source": [
        "Question 10-- Write a code to reverse the list [10, 20, 30, 40, 50]."
      ],
      "metadata": {
        "id": "I7vg5rg-YVRZ"
      }
    },
    {
      "cell_type": "code",
      "source": [
        "input_list=[10,20,30,40,50]\n",
        "print(input_list[::-1])"
      ],
      "metadata": {
        "colab": {
          "base_uri": "https://localhost:8080/"
        },
        "id": "ui0vAduqYdrI",
        "outputId": "6d40fde6-61c0-4fc5-eb24-c8e4dbde3bf0"
      },
      "execution_count": null,
      "outputs": [
        {
          "output_type": "stream",
          "name": "stdout",
          "text": [
            "[50, 40, 30, 20, 10]\n"
          ]
        }
      ]
    },
    {
      "cell_type": "markdown",
      "source": [
        "Question 11--  Write a code to create a tuple with the elements 100, 200, 300 and print it"
      ],
      "metadata": {
        "id": "ncl6lQbcYtKD"
      }
    },
    {
      "cell_type": "code",
      "source": [
        "input_tuple = (100, 200, 300)\n",
        "print(input_tuple)"
      ],
      "metadata": {
        "colab": {
          "base_uri": "https://localhost:8080/"
        },
        "id": "BUEP9xfEYzJp",
        "outputId": "985a0af3-1000-4c9f-d323-410718cd910f"
      },
      "execution_count": null,
      "outputs": [
        {
          "output_type": "stream",
          "name": "stdout",
          "text": [
            "(100, 200, 300)\n"
          ]
        }
      ]
    },
    {
      "cell_type": "markdown",
      "source": [
        "Question 12-- Write a code to access the second-to-last element of the tuple ('red', 'green', 'blue', 'yellow')."
      ],
      "metadata": {
        "id": "uNP5UFLeZzNc"
      }
    },
    {
      "cell_type": "code",
      "source": [
        "input_tuple=(\"red\",\"green\",\"blue\",\"yellow\")\n",
        "print(input_tuple[-2])\n"
      ],
      "metadata": {
        "colab": {
          "base_uri": "https://localhost:8080/"
        },
        "id": "mmXtPcPRZ6wP",
        "outputId": "9a48efc9-4122-456f-97e2-52c5eae443db"
      },
      "execution_count": null,
      "outputs": [
        {
          "output_type": "stream",
          "name": "stdout",
          "text": [
            "blue\n"
          ]
        }
      ]
    },
    {
      "cell_type": "markdown",
      "source": [
        "Question 13-- Write a code to find the minimum number in the tuple (10, 20, 5, 15)."
      ],
      "metadata": {
        "id": "D70iU3igaDLm"
      }
    },
    {
      "cell_type": "code",
      "source": [
        "input_tuple=(10,20,5,15)\n",
        "print(min(input_tuple))"
      ],
      "metadata": {
        "colab": {
          "base_uri": "https://localhost:8080/"
        },
        "id": "77WuFFwUaKkf",
        "outputId": "8f455256-6ac0-4b57-d6ff-36f95fc7f7ad"
      },
      "execution_count": null,
      "outputs": [
        {
          "output_type": "stream",
          "name": "stdout",
          "text": [
            "5\n"
          ]
        }
      ]
    },
    {
      "cell_type": "markdown",
      "source": [
        "Question 14-- Write a code to find the index of the element \"cat\" in the tuple ('dog', 'cat', 'rabbit')."
      ],
      "metadata": {
        "id": "mXEFr6nmaZ7E"
      }
    },
    {
      "cell_type": "code",
      "source": [
        "input_tuple=('dog','cat','rabbit')\n",
        "print(input_tuple.index('cat'))"
      ],
      "metadata": {
        "colab": {
          "base_uri": "https://localhost:8080/"
        },
        "id": "k7KmErRdah-J",
        "outputId": "7382a8cb-83b1-49c2-cda1-c4010a68ef93"
      },
      "execution_count": null,
      "outputs": [
        {
          "output_type": "stream",
          "name": "stdout",
          "text": [
            "1\n"
          ]
        }
      ]
    },
    {
      "cell_type": "markdown",
      "source": [
        "Question 15-- Write a code to create a tuple containing three different fruits and check if \"kiwi\" is in it .\n"
      ],
      "metadata": {
        "id": "L6UY-ocEaupG"
      }
    },
    {
      "cell_type": "code",
      "metadata": {
        "colab": {
          "base_uri": "https://localhost:8080/"
        },
        "id": "94bb7f4c",
        "outputId": "dfbe1602-0f46-484f-b36e-69b96ede408c"
      },
      "source": [
        "fruits_tuple = (\"apple\", \"banana\", \"orange\")\n",
        "print(\"kiwi\" in fruits_tuple)"
      ],
      "execution_count": 2,
      "outputs": [
        {
          "output_type": "stream",
          "name": "stdout",
          "text": [
            "False\n"
          ]
        }
      ]
    },
    {
      "cell_type": "markdown",
      "source": [
        "Question 16-- Write a code to create a set with the elements 'a', 'b', 'c' and print it."
      ],
      "metadata": {
        "id": "jOuQspBxa8Bn"
      }
    },
    {
      "cell_type": "code",
      "source": [
        "input_set={\"a\",\"b\",\"c\"}\n",
        "print(input_set)"
      ],
      "metadata": {
        "colab": {
          "base_uri": "https://localhost:8080/"
        },
        "id": "lDOmxGYebCXG",
        "outputId": "7a9d611d-4dbc-45ce-e895-465da6ad5b35"
      },
      "execution_count": null,
      "outputs": [
        {
          "output_type": "stream",
          "name": "stdout",
          "text": [
            "{'c', 'a', 'b'}\n"
          ]
        }
      ]
    },
    {
      "cell_type": "markdown",
      "source": [
        "Question 17-- Write a code to clear all elements from the set {1, 2, 3, 4, 5}."
      ],
      "metadata": {
        "id": "x3Nt-XlCbINF"
      }
    },
    {
      "cell_type": "code",
      "source": [
        "input_set={1,2,3,4,5}\n",
        "input_set.clear()\n",
        "print(input_set)"
      ],
      "metadata": {
        "colab": {
          "base_uri": "https://localhost:8080/"
        },
        "id": "LZ6-V2LebSK1",
        "outputId": "7dc89681-f8d9-4223-c67a-6c82d4aa2d81"
      },
      "execution_count": null,
      "outputs": [
        {
          "output_type": "stream",
          "name": "stdout",
          "text": [
            "set()\n"
          ]
        }
      ]
    },
    {
      "cell_type": "markdown",
      "source": [
        "QUestion 18-- Write a code to remove the element 4 from the set {1, 2, 3, 4}."
      ],
      "metadata": {
        "id": "JEJfdP7LbV7M"
      }
    },
    {
      "cell_type": "code",
      "source": [
        "input_set={1,2,3,4}\n",
        "input_set.remove(4)\n",
        "print(input_set)"
      ],
      "metadata": {
        "colab": {
          "base_uri": "https://localhost:8080/"
        },
        "id": "T97aFlrubd-D",
        "outputId": "a31ee4de-974c-435a-ef6c-461e983a1e0c"
      },
      "execution_count": null,
      "outputs": [
        {
          "output_type": "stream",
          "name": "stdout",
          "text": [
            "{1, 2, 3}\n"
          ]
        }
      ]
    },
    {
      "cell_type": "markdown",
      "source": [
        "QUESTION 19--Write a code to find the union of two sets {1, 2, 3} and {3, 4, 5}."
      ],
      "metadata": {
        "id": "aY5ayV8qbsim"
      }
    },
    {
      "cell_type": "code",
      "source": [
        "input_set1={1,2,3}\n",
        "input_set2={3,4,5}\n",
        "print(input_set1.union(input_set2))"
      ],
      "metadata": {
        "colab": {
          "base_uri": "https://localhost:8080/"
        },
        "id": "Bkf79GbcbxnH",
        "outputId": "394e3534-42c9-4768-ebfb-694231c88cce"
      },
      "execution_count": null,
      "outputs": [
        {
          "output_type": "stream",
          "name": "stdout",
          "text": [
            "{1, 2, 3, 4, 5}\n"
          ]
        }
      ]
    },
    {
      "cell_type": "markdown",
      "source": [
        "Question 20- Write a code to find the intersection of two sets {1, 2, 3} and {2, 3, 4}."
      ],
      "metadata": {
        "id": "MHRO9Xs6cDbM"
      }
    },
    {
      "cell_type": "code",
      "source": [
        "set1={1,2,3}\n",
        "set2={2,3,4}\n",
        "print(set1.intersection(set2))"
      ],
      "metadata": {
        "colab": {
          "base_uri": "https://localhost:8080/"
        },
        "id": "aFfqudcYcMQU",
        "outputId": "cb5d53ee-ae93-45a7-e18f-c4d398b4f336"
      },
      "execution_count": null,
      "outputs": [
        {
          "output_type": "stream",
          "name": "stdout",
          "text": [
            "{2, 3}\n"
          ]
        }
      ]
    },
    {
      "cell_type": "markdown",
      "source": [
        "Question 21-- Write a code to create a dictionary with the keys \"name\", \"age\", and \"city\", and print it."
      ],
      "metadata": {
        "id": "EEaHLnH2cS4A"
      }
    },
    {
      "cell_type": "code",
      "source": [
        "input_dict = {\"name\":\"raj\", \"age\":21, \"city\":\"gorakhpur\" }\n",
        "print(input_dict)"
      ],
      "metadata": {
        "colab": {
          "base_uri": "https://localhost:8080/"
        },
        "id": "NhRtRIgIcYPA",
        "outputId": "ce9a0c09-acc3-4673-fa45-f01745989778"
      },
      "execution_count": null,
      "outputs": [
        {
          "output_type": "stream",
          "name": "stdout",
          "text": [
            "{'name': 'raj', 'age': 21, 'city': 'gorakhpur'}\n"
          ]
        }
      ]
    },
    {
      "cell_type": "markdown",
      "source": [
        "Question 22-- Write a code to add a new key-value pair \"country\": \"USA\" to the dictionary {'name': 'John', 'age': 25}."
      ],
      "metadata": {
        "id": "JfBawgIIdDsg"
      }
    },
    {
      "cell_type": "code",
      "source": [
        "input_dict={'name':'john','age':25}\n",
        "input_dict['country']='USA'\n",
        "print(input_dict)"
      ],
      "metadata": {
        "colab": {
          "base_uri": "https://localhost:8080/"
        },
        "id": "9Che86BOda32",
        "outputId": "82fee5ca-8c80-482e-ac3c-6e3542b5de70"
      },
      "execution_count": null,
      "outputs": [
        {
          "output_type": "stream",
          "name": "stdout",
          "text": [
            "{'name': 'john', 'age': 25, 'country': 'USA'}\n"
          ]
        }
      ]
    },
    {
      "cell_type": "markdown",
      "source": [
        "Question 23 --Write a code to access the value associated with the key \"name\" in the dictionary {'name': 'Alice', 'age': 30}."
      ],
      "metadata": {
        "id": "vKpZ2ukodslu"
      }
    },
    {
      "cell_type": "code",
      "source": [
        "input_dict = {'name':'alice','age':30}\n",
        "print(input_dict['name'])"
      ],
      "metadata": {
        "colab": {
          "base_uri": "https://localhost:8080/"
        },
        "id": "XhyQmb-FeP2x",
        "outputId": "77186fc5-189e-467f-be8f-a804e4a994e8"
      },
      "execution_count": null,
      "outputs": [
        {
          "output_type": "stream",
          "name": "stdout",
          "text": [
            "alice\n"
          ]
        }
      ]
    },
    {
      "cell_type": "markdown",
      "source": [
        "Question 24-- Write a code to remove the key \"age\" from the dictionary {'name': 'Bob', 'age': 22, 'city': 'New York'}."
      ],
      "metadata": {
        "id": "34Ue3ZO9eXEP"
      }
    },
    {
      "cell_type": "code",
      "source": [
        "input_dict={'name':'bob','age':22,'city':'new york'}\n",
        "input_dict.pop('age')\n",
        "print(input_dict)"
      ],
      "metadata": {
        "colab": {
          "base_uri": "https://localhost:8080/"
        },
        "id": "t7wE9bf2ehfu",
        "outputId": "1b007db6-ba99-4f1c-e634-f55c66888f60"
      },
      "execution_count": null,
      "outputs": [
        {
          "output_type": "stream",
          "name": "stdout",
          "text": [
            "{'name': 'bob', 'city': 'new york'}\n"
          ]
        }
      ]
    },
    {
      "cell_type": "markdown",
      "source": [
        "Question 25-- Write a code to remove the key \"age\" from the dictionary {'name': 'Bob', 'age': 22, 'city': 'New York'}."
      ],
      "metadata": {
        "id": "OIo3gAVhev27"
      }
    },
    {
      "cell_type": "code",
      "source": [
        "input_dict={'name':'bob','age':22,'city':'new york'}\n",
        "input_dict.pop('age')\n",
        "print(input_dict)"
      ],
      "metadata": {
        "colab": {
          "base_uri": "https://localhost:8080/"
        },
        "id": "-I2ZsmphfDIT",
        "outputId": "95940771-743c-44cc-f3f3-d8e4aea760af"
      },
      "execution_count": null,
      "outputs": [
        {
          "output_type": "stream",
          "name": "stdout",
          "text": [
            "{'name': 'bob', 'city': 'new york'}\n"
          ]
        }
      ]
    },
    {
      "cell_type": "markdown",
      "source": [
        "Question 26-- Write a code to create a list, a tuple, and a dictionary, and print them all."
      ],
      "metadata": {
        "id": "E8akBE9hQD62"
      }
    },
    {
      "cell_type": "code",
      "source": [
        "input_list=[1,2,3,4]\n",
        "input_tuple=(1,2,3,4)\n",
        "input_dict={'name':'raj','age':21}\n",
        "print(input_list)\n",
        "print(input_tuple)\n",
        "print(input_dict)"
      ],
      "metadata": {
        "colab": {
          "base_uri": "https://localhost:8080/"
        },
        "id": "lV7k4yi4QM23",
        "outputId": "f757f361-f4c0-4e9a-ea7b-8b042ac6ddf4"
      },
      "execution_count": null,
      "outputs": [
        {
          "output_type": "stream",
          "name": "stdout",
          "text": [
            "[1, 2, 3, 4]\n",
            "(1, 2, 3, 4)\n",
            "{'name': 'raj', 'age': 21}\n"
          ]
        }
      ]
    },
    {
      "cell_type": "markdown",
      "source": [
        "Question 27-- Write a code to create a list of 5 random numbers between 1 and 100, sort it in ascending order, and print the\n",
        "result.(replaced)"
      ],
      "metadata": {
        "id": "V3Xbc18EQcES"
      }
    },
    {
      "cell_type": "code",
      "metadata": {
        "colab": {
          "base_uri": "https://localhost:8080/"
        },
        "id": "dd163a1b",
        "outputId": "1f626e06-af50-401f-e3b6-beecd3208ffa"
      },
      "source": [
        "import random\n",
        "\n",
        "random_numbers = [random.randint(1, 100) for _ in range(5)]\n",
        "\n",
        "random_numbers.sort()\n",
        "\n",
        "print(random_numbers)"
      ],
      "execution_count": null,
      "outputs": [
        {
          "output_type": "stream",
          "name": "stdout",
          "text": [
            "[2, 33, 44, 72, 77]\n"
          ]
        }
      ]
    },
    {
      "cell_type": "markdown",
      "source": [
        "Question 28-- Write a code to create a list with strings and print the element at the third index.\n"
      ],
      "metadata": {
        "id": "za1err5aQdD0"
      }
    },
    {
      "cell_type": "code",
      "source": [
        "input_list=[\"raj\",\"ravi\",\"rakesh\",\"rohan\"]\n",
        "print(input_list[3])"
      ],
      "metadata": {
        "colab": {
          "base_uri": "https://localhost:8080/"
        },
        "id": "uj76PAd3S2hh",
        "outputId": "63a2dc83-2183-4554-8ef8-a9b3e33e7ccf"
      },
      "execution_count": null,
      "outputs": [
        {
          "output_type": "stream",
          "name": "stdout",
          "text": [
            "rohan\n"
          ]
        }
      ]
    },
    {
      "cell_type": "markdown",
      "source": [
        "Question 29--. Write a code to combine two dictionaries into one and print the result."
      ],
      "metadata": {
        "id": "8MfZVmbnTak3"
      }
    },
    {
      "cell_type": "code",
      "source": [
        "input_dict1={'name':'raj','age':21}\n",
        "input_dict2={'name':'ravi','age':22}\n",
        "input_dict1.update(input_dict2)\n",
        "print(input_dict1)"
      ],
      "metadata": {
        "colab": {
          "base_uri": "https://localhost:8080/"
        },
        "id": "EKsyAL6bTk-t",
        "outputId": "61fed0e3-84d2-4eb4-be63-712674273dcb"
      },
      "execution_count": null,
      "outputs": [
        {
          "output_type": "stream",
          "name": "stdout",
          "text": [
            "{'name': 'ravi', 'age': 22}\n"
          ]
        }
      ]
    },
    {
      "cell_type": "markdown",
      "source": [
        "Question 30 -- Write a code to convert a list of strings into a set."
      ],
      "metadata": {
        "id": "ybdKLzcaT3sK"
      }
    },
    {
      "cell_type": "code",
      "metadata": {
        "colab": {
          "base_uri": "https://localhost:8080/"
        },
        "id": "0ae08b60",
        "outputId": "b32c6966-272a-4e57-a1cc-772526e29f5c"
      },
      "source": [
        "list_of_strings = [\"apple\", \"banana\", \"cherry\", \"apple\"]\n",
        "set_of_strings = set(list_of_strings)\n",
        "print(set_of_strings)"
      ],
      "execution_count": 1,
      "outputs": [
        {
          "output_type": "stream",
          "name": "stdout",
          "text": [
            "{'cherry', 'banana', 'apple'}\n"
          ]
        }
      ]
    }
  ]
}